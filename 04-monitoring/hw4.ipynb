{
 "cells": [
  {
   "cell_type": "markdown",
   "id": "d0c68aaf-9e71-45a5-a084-487664206c20",
   "metadata": {},
   "source": [
    "# 0. Preparations"
   ]
  },
  {
   "cell_type": "code",
   "execution_count": null,
   "id": "3434b5b2-6da5-479f-9930-bf77cbc2daef",
   "metadata": {},
   "outputs": [],
   "source": [
    "import pandas as pd"
   ]
  },
  {
   "cell_type": "code",
   "execution_count": null,
   "id": "edcc3274-f463-4b58-a9e2-85a7eae825e0",
   "metadata": {},
   "outputs": [],
   "source": [
    "data_url = \"https://raw.githubusercontent.com/DataTalksClub/llm-zoomcamp/main/04-monitoring/data/results-gpt4o-mini.csv\""
   ]
  },
  {
   "cell_type": "code",
   "execution_count": null,
   "id": "9a945de5-b2d8-435a-8bfa-164fbe524e2b",
   "metadata": {},
   "outputs": [],
   "source": [
    "data_df = pd.read_csv(data_url)"
   ]
  },
  {
   "cell_type": "code",
   "execution_count": null,
   "id": "b8da8b64-63e4-4efb-8640-685cef26050f",
   "metadata": {},
   "outputs": [],
   "source": [
    "sample_data_df = data_df.iloc[:300]"
   ]
  },
  {
   "cell_type": "code",
   "execution_count": null,
   "id": "36c91b01-bb36-4734-bc1e-8935831ef197",
   "metadata": {},
   "outputs": [],
   "source": []
  },
  {
   "cell_type": "code",
   "execution_count": null,
   "id": "7a9f82ab-600c-4b2b-9a88-953947c3d034",
   "metadata": {},
   "outputs": [],
   "source": [
    "model_name = \"multi-qa-mpnet-base-dot-v1\""
   ]
  },
  {
   "cell_type": "code",
   "execution_count": null,
   "id": "5d1acb46-ce52-49eb-abf2-05e551ea479f",
   "metadata": {},
   "outputs": [],
   "source": [
    "from sentence_transformers import SentenceTransformer"
   ]
  },
  {
   "cell_type": "code",
   "execution_count": null,
   "id": "db027874-54fb-4a04-b004-711e88650cb3",
   "metadata": {},
   "outputs": [],
   "source": [
    "embedding_model = SentenceTransformer(model_name)"
   ]
  },
  {
   "cell_type": "markdown",
   "id": "5e1bb277-013c-491d-914e-0ae7caa0ea8e",
   "metadata": {},
   "source": [
    "# 1"
   ]
  },
  {
   "cell_type": "code",
   "execution_count": null,
   "id": "6608dd4f-91db-4fbe-8a41-7e74749b3553",
   "metadata": {},
   "outputs": [],
   "source": [
    "answer_llm = sample_data_df.iloc[0].answer_llm"
   ]
  },
  {
   "cell_type": "code",
   "execution_count": null,
   "id": "7998f15b-070e-44de-ae2c-c9be3f8010af",
   "metadata": {},
   "outputs": [],
   "source": [
    "answer_llm"
   ]
  },
  {
   "cell_type": "code",
   "execution_count": null,
   "id": "e840b6f5-5827-4350-af87-4a83d10be078",
   "metadata": {},
   "outputs": [],
   "source": [
    "embedding_model.encode(answer_llm)[:10]"
   ]
  },
  {
   "cell_type": "markdown",
   "id": "6a37c52f-5ceb-4392-a8c3-1d2915e93125",
   "metadata": {},
   "source": [
    "# 2"
   ]
  },
  {
   "cell_type": "code",
   "execution_count": null,
   "id": "ba68c06d-d5e9-4496-81dc-d924ac24c63f",
   "metadata": {},
   "outputs": [],
   "source": [
    "import numpy as np"
   ]
  },
  {
   "cell_type": "code",
   "execution_count": null,
   "id": "c8e83b3e-eb68-4f65-8f03-3ef5e5578dad",
   "metadata": {},
   "outputs": [],
   "source": [
    "evaluations = []\n",
    "for idx, row in sample_data_df.iterrows():\n",
    "    answer_orig = row['answer_orig']\n",
    "    answer_llm = row['answer_llm']\n",
    "\n",
    "    sim = embedding_model.similarity(\n",
    "        embedding_model.encode(answer_orig),\n",
    "        embedding_model.encode(answer_llm)\n",
    "    )\n",
    "\n",
    "    evaluations.append(sim)"
   ]
  },
  {
   "cell_type": "code",
   "execution_count": null,
   "id": "680924ce-9524-4609-b7ab-695a1b4d2886",
   "metadata": {},
   "outputs": [],
   "source": [
    "np.quantile(evaluations, 0.75)"
   ]
  },
  {
   "cell_type": "markdown",
   "id": "9437f1e3-4329-4504-ae5c-f809a984ef6d",
   "metadata": {},
   "source": [
    "# 3"
   ]
  },
  {
   "cell_type": "code",
   "execution_count": null,
   "id": "efa82de1-1c87-4e4e-b54f-4a1f15b6c054",
   "metadata": {},
   "outputs": [],
   "source": [
    "evaluations = []\n",
    "for idx, row in sample_data_df.iterrows():\n",
    "    answer_orig, answer_llm = row['answer_orig'], row['answer_llm']\n",
    "\n",
    "    sim = embedding_model.similarity(\n",
    "        embedding_model.encode(answer_orig, normalize_embeddings=True),\n",
    "        embedding_model.encode(answer_llm, normalize_embeddings=True)\n",
    "    )\n",
    "\n",
    "    evaluations.append(sim)"
   ]
  },
  {
   "cell_type": "code",
   "execution_count": null,
   "id": "cfccf536-dddd-4cf0-877f-7e7be545b599",
   "metadata": {},
   "outputs": [],
   "source": [
    "np.quantile(evaluations, 0.75)"
   ]
  },
  {
   "cell_type": "code",
   "execution_count": null,
   "id": "8303e6ca-5849-4b72-88c6-66c227671f9b",
   "metadata": {},
   "outputs": [],
   "source": []
  },
  {
   "cell_type": "markdown",
   "id": "2560bcf6-8e03-4521-817b-317067f027da",
   "metadata": {},
   "source": [
    "# 4"
   ]
  },
  {
   "cell_type": "code",
   "execution_count": null,
   "id": "d7a938d6-2e1c-4953-929a-51d707558207",
   "metadata": {},
   "outputs": [],
   "source": [
    "from rouge import Rouge"
   ]
  },
  {
   "cell_type": "code",
   "execution_count": null,
   "id": "ca74ed32-8b35-433e-924f-2fc06b52cfb2",
   "metadata": {},
   "outputs": [],
   "source": [
    "doc = sample_data_df[sample_data_df['document'] == '5170565b'].iloc[0]"
   ]
  },
  {
   "cell_type": "code",
   "execution_count": null,
   "id": "23554271-d661-4a13-815f-464578fb5cf6",
   "metadata": {},
   "outputs": [],
   "source": [
    "doc"
   ]
  },
  {
   "cell_type": "code",
   "execution_count": null,
   "id": "37566294-0702-4170-80d3-6582b33d6c87",
   "metadata": {},
   "outputs": [],
   "source": [
    "rouge_scorer = Rouge(metrics=['rouge-1', 'rouge-2', 'rouge-l'])"
   ]
  },
  {
   "cell_type": "code",
   "execution_count": null,
   "id": "ca54543e-8c7f-4fd7-8a9e-3dcbe8cac5fe",
   "metadata": {},
   "outputs": [],
   "source": [
    "scores = rouge_scorer.get_scores(doc['answer_llm'], doc['answer_orig'])[0]"
   ]
  },
  {
   "cell_type": "code",
   "execution_count": null,
   "id": "4516e3c6-5c10-404c-926a-0c49246181cc",
   "metadata": {},
   "outputs": [],
   "source": [
    "scores['rouge-1']"
   ]
  },
  {
   "cell_type": "code",
   "execution_count": null,
   "id": "85a3d30c-3419-4d10-bd45-953e0a1279b1",
   "metadata": {},
   "outputs": [],
   "source": []
  },
  {
   "cell_type": "markdown",
   "id": "e7a3bee5-1233-4f8c-8e73-bc3429f4321f",
   "metadata": {},
   "source": [
    "# 5"
   ]
  },
  {
   "cell_type": "code",
   "execution_count": null,
   "id": "f89ca2b4-1771-458f-b3a0-fd7d05f86d06",
   "metadata": {},
   "outputs": [],
   "source": [
    "np.mean([v['f'] for k, v in scores.items()])"
   ]
  },
  {
   "cell_type": "markdown",
   "id": "e235b587-c1a7-4d7b-98f4-0c28a436b5bf",
   "metadata": {},
   "source": [
    "# 6"
   ]
  },
  {
   "cell_type": "code",
   "execution_count": null,
   "id": "ff34fd45-baed-4aaa-8a41-cb29217021a2",
   "metadata": {},
   "outputs": [],
   "source": [
    "from collections import defaultdict"
   ]
  },
  {
   "cell_type": "code",
   "execution_count": null,
   "id": "50dc4054-ddf7-4f64-a424-eecfc4ac0a91",
   "metadata": {},
   "outputs": [],
   "source": [
    "rouge_metrics_names = ['rouge-1', 'rouge-2', 'rouge-l']"
   ]
  },
  {
   "cell_type": "code",
   "execution_count": null,
   "id": "916ef7a4-4930-4c48-8f60-2f4ac706cb5c",
   "metadata": {},
   "outputs": [],
   "source": [
    "rouge_scorer = Rouge(metrics=rouge_metrics_names)"
   ]
  },
  {
   "cell_type": "code",
   "execution_count": null,
   "id": "aecb7fbb-ba07-4ea1-83c0-e03a957cf3c4",
   "metadata": {},
   "outputs": [],
   "source": [
    "ms = defaultdict(list)\n",
    "for idx, doc in sample_data_df.iterrows():\n",
    "    answer_orig, answer_llm = doc['answer_orig'], doc['answer_llm']\n",
    "\n",
    "    scores = rouge_scorer.get_scores(doc['answer_llm'], doc['answer_orig'])[0]\n",
    "\n",
    "    for k, v in scores.items():\n",
    "        ms[k].append(v['f'])"
   ]
  },
  {
   "cell_type": "code",
   "execution_count": null,
   "id": "6e9b04f0-3184-4f15-918b-e842786f18fa",
   "metadata": {},
   "outputs": [],
   "source": [
    "for mn in rouge_metrics_names:\n",
    "    avg_m = np.mean(ms[mn])\n",
    "\n",
    "    print(mn, avg_m)"
   ]
  },
  {
   "cell_type": "code",
   "execution_count": null,
   "id": "22db3e4e-b251-49f1-8443-842f135a132d",
   "metadata": {},
   "outputs": [],
   "source": []
  }
 ],
 "metadata": {
  "kernelspec": {
   "display_name": "Python 3 (ipykernel)",
   "language": "python",
   "name": "python3"
  },
  "language_info": {
   "codemirror_mode": {
    "name": "ipython",
    "version": 3
   },
   "file_extension": ".py",
   "mimetype": "text/x-python",
   "name": "python",
   "nbconvert_exporter": "python",
   "pygments_lexer": "ipython3",
   "version": "3.12.4"
  }
 },
 "nbformat": 4,
 "nbformat_minor": 5
}
