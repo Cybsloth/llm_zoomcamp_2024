{
 "cells": [
  {
   "cell_type": "markdown",
   "id": "a054e4dc-569d-4856-babf-3d07d19929c0",
   "metadata": {},
   "source": [
    "# Imports"
   ]
  },
  {
   "cell_type": "code",
   "execution_count": null,
   "id": "3112a6be-b73a-4ed1-b150-4f1dea33a100",
   "metadata": {},
   "outputs": [],
   "source": [
    "import elasticsearch as es\n",
    "from getpass import getpass\n",
    "import os\n",
    "import pandas as pd\n",
    "import requests \n",
    "import tiktoken\n",
    "from tqdm.autonotebook import tqdm\n",
    "from typing import Optional"
   ]
  },
  {
   "cell_type": "code",
   "execution_count": null,
   "id": "10f4e558-90c9-4a6b-a1fd-fbc33bdd1b42",
   "metadata": {},
   "outputs": [],
   "source": [
    "pd.set_option('display.max_rows', 500)"
   ]
  },
  {
   "cell_type": "markdown",
   "id": "38684602-87a7-4125-8bc0-a154689e14f8",
   "metadata": {},
   "source": [
    "# Get data"
   ]
  },
  {
   "cell_type": "code",
   "execution_count": null,
   "id": "7f343312-9cbc-40ef-94ab-fc365fd99060",
   "metadata": {},
   "outputs": [],
   "source": [
    "docs_url = 'https://github.com/DataTalksClub/llm-zoomcamp/blob/main/01-intro/documents.json?raw=1'\n",
    "docs_response = requests.get(docs_url)\n",
    "documents_raw = docs_response.json()"
   ]
  },
  {
   "cell_type": "code",
   "execution_count": null,
   "id": "19d3218c-ceb1-4408-85f5-e625688c5d7f",
   "metadata": {},
   "outputs": [],
   "source": [
    "documents = []\n",
    "\n",
    "for course in documents_raw:\n",
    "    course_name = course['course']\n",
    "\n",
    "    for doc in course['documents']:\n",
    "        doc['course'] = course_name\n",
    "        documents.append(doc)"
   ]
  },
  {
   "cell_type": "code",
   "execution_count": null,
   "id": "afcdd261-cc52-4087-acee-b9b51bdf3e82",
   "metadata": {},
   "outputs": [],
   "source": [
    "documents[0]"
   ]
  },
  {
   "cell_type": "code",
   "execution_count": null,
   "id": "18d585af-17b4-40a1-b637-60b5e63b6f04",
   "metadata": {},
   "outputs": [],
   "source": [
    "es_client = es.Elasticsearch('http://localhost:9200') "
   ]
  },
  {
   "cell_type": "code",
   "execution_count": null,
   "id": "e81b7006-9a62-4616-9f00-e028c0a33bc3",
   "metadata": {},
   "outputs": [],
   "source": [
    "es_client.ml?"
   ]
  },
  {
   "cell_type": "code",
   "execution_count": null,
   "id": "f6089e97-fdc9-40a5-8ed6-7314c6940987",
   "metadata": {},
   "outputs": [],
   "source": [
    "index_settings = {\n",
    "    \"settings\": {\n",
    "        \"number_of_shards\": 1,\n",
    "        \"number_of_replicas\": 0\n",
    "    },\n",
    "    \"mappings\": {\n",
    "        \"properties\": {\n",
    "            \"text\": {\"type\": \"text\"},\n",
    "            \"section\": {\"type\": \"text\"},\n",
    "            \"question\": {\"type\": \"text\"},\n",
    "            \"course\": {\"type\": \"keyword\"} \n",
    "        }\n",
    "    }\n",
    "}\n",
    "\n",
    "index_name = \"course-questions\"\n",
    "\n",
    "es_client.indices.create(index=index_name, body=index_settings)"
   ]
  },
  {
   "cell_type": "code",
   "execution_count": null,
   "id": "e03fcbde-816e-4cc1-bb1d-98956a368d17",
   "metadata": {},
   "outputs": [],
   "source": [
    "for doc in tqdm(documents):\n",
    "    es_client.index(index=index_name, document=doc)"
   ]
  },
  {
   "cell_type": "code",
   "execution_count": null,
   "id": "815a25fd-4e98-4083-893b-b6fcf69ee927",
   "metadata": {},
   "outputs": [],
   "source": [
    "query = 'How do I execute a command in a running docker container?'"
   ]
  },
  {
   "cell_type": "code",
   "execution_count": null,
   "id": "22918daf-468b-4601-91ce-f3991b2c31d6",
   "metadata": {},
   "outputs": [],
   "source": [
    "def elastic_search(\n",
    "    query: str, \n",
    "    serp_size: int = 5,\n",
    "    course_filter: Optional[str] = None \n",
    "):\n",
    "    search_query = {\n",
    "        \"size\": serp_size,\n",
    "        \"query\": {\n",
    "            \"bool\": {\n",
    "                \"must\": {\n",
    "                    \"multi_match\": {\n",
    "                        \"query\": query,\n",
    "                        \"fields\": [\"question^4\", \"text\"],\n",
    "                        \"type\": \"best_fields\"\n",
    "                    }\n",
    "                },\n",
    "                # \"filter\": {\n",
    "                #     \"term\": {\n",
    "                #         \"course\": \"data-engineering-zoomcamp\"\n",
    "                #     }\n",
    "                # }\n",
    "            }\n",
    "        }\n",
    "    }\n",
    "    if course_filter is not None:\n",
    "        search_query[\"query\"][\"bool\"][\"filter\"] = {\"term\": {\"course\": course_filter}}\n",
    "\n",
    "    response = es_client.search(index=index_name, body=search_query)\n",
    "    \n",
    "    result_docs = []\n",
    "    \n",
    "    for hit in response['hits']['hits']:\n",
    "        result_docs.append(hit['_source'])\n",
    "    \n",
    "    return result_docs, response"
   ]
  },
  {
   "cell_type": "code",
   "execution_count": null,
   "id": "cb417e45-70d1-45e5-ad01-634863da6915",
   "metadata": {},
   "outputs": [],
   "source": [
    "res, response = elastic_search(query)"
   ]
  },
  {
   "cell_type": "code",
   "execution_count": null,
   "id": "75b5e1f7-7c34-438c-9b6b-0565851934b5",
   "metadata": {},
   "outputs": [],
   "source": [
    "response['hits']['max_score']"
   ]
  },
  {
   "cell_type": "code",
   "execution_count": null,
   "id": "f980dc9e-eb83-4580-beec-42e496956d9c",
   "metadata": {},
   "outputs": [],
   "source": []
  },
  {
   "cell_type": "code",
   "execution_count": null,
   "id": "74c42b9e-f90b-4925-bd17-b506bb5470ee",
   "metadata": {},
   "outputs": [],
   "source": [
    "results_docs, _ = elastic_search(\n",
    "    query=query,\n",
    "    serp_size=3, \n",
    "    course_filter=\"machine-learning-zoomcamp\"\n",
    ")"
   ]
  },
  {
   "cell_type": "code",
   "execution_count": null,
   "id": "d669dd97-c913-473b-b2db-b85a33f717dd",
   "metadata": {},
   "outputs": [],
   "source": [
    "len(results_docs)"
   ]
  },
  {
   "cell_type": "code",
   "execution_count": null,
   "id": "01c75cf4-a7dc-45cc-bbb0-9d854426acf4",
   "metadata": {},
   "outputs": [],
   "source": [
    "results_docs[2]"
   ]
  },
  {
   "cell_type": "code",
   "execution_count": null,
   "id": "1b15ea6d-e4a1-4227-ad2c-8a34ac43e5e5",
   "metadata": {},
   "outputs": [],
   "source": []
  },
  {
   "cell_type": "code",
   "execution_count": null,
   "id": "6ae14142-fdc1-4745-af10-98c355bec03c",
   "metadata": {},
   "outputs": [],
   "source": [
    "context_template = \"\"\"\n",
    "Q: {question}\n",
    "A: {text}\n",
    "\"\"\".strip()\n",
    "\n",
    "prompt_template = \"\"\"\n",
    "You're a course teaching assistant. Answer the QUESTION based on the CONTEXT from the FAQ database.\n",
    "Use only the facts from the CONTEXT when answering the QUESTION.\n",
    "\n",
    "QUESTION: {question}\n",
    "\n",
    "CONTEXT:\n",
    "{context}\n",
    "\"\"\".strip()"
   ]
  },
  {
   "cell_type": "code",
   "execution_count": null,
   "id": "cb1c2a1d-c09c-4de6-b7e2-f1eb2ae5502d",
   "metadata": {},
   "outputs": [],
   "source": [
    "context = []\n",
    "for result in results_docs:\n",
    "    context.append(context_template.format(question=result['question'], text=result['text']))\n",
    "\n",
    "context = \"\\n\\n\".join(context)\n",
    "len(context)"
   ]
  },
  {
   "cell_type": "code",
   "execution_count": null,
   "id": "922acf81-9fae-4a65-9829-57ded416b96f",
   "metadata": {},
   "outputs": [],
   "source": [
    "prompt = prompt_template.format(question=query, context=context)\n",
    "len(prompt)"
   ]
  },
  {
   "cell_type": "code",
   "execution_count": null,
   "id": "7cf1c2bb-5c47-4639-a8e5-044ddc43be58",
   "metadata": {},
   "outputs": [],
   "source": [
    "print(prompt)"
   ]
  },
  {
   "cell_type": "code",
   "execution_count": null,
   "id": "562458d2-b25d-40c4-9348-de2d233c849e",
   "metadata": {},
   "outputs": [],
   "source": []
  },
  {
   "cell_type": "code",
   "execution_count": null,
   "id": "c3a6edeb-421b-42c5-a3b5-65a86c6e6c70",
   "metadata": {},
   "outputs": [],
   "source": [
    "encoding = tiktoken.encoding_for_model(\"gpt-4o\")"
   ]
  },
  {
   "cell_type": "code",
   "execution_count": null,
   "id": "55856be3-7737-4acf-8a3b-8e3047ad3ed1",
   "metadata": {},
   "outputs": [],
   "source": [
    "len(encoding.encode(prompt))"
   ]
  },
  {
   "cell_type": "code",
   "execution_count": null,
   "id": "48a333f0-e545-4fad-9f28-f659792101eb",
   "metadata": {},
   "outputs": [],
   "source": [
    "code_map = pd.DataFrame(\n",
    "    data=[(code, encoding.decode_single_token_bytes(code))  for code in encoding.encode(prompt)],\n",
    "    columns=['code', 'token']\n",
    ")"
   ]
  },
  {
   "cell_type": "code",
   "execution_count": null,
   "id": "6915e42e-bae1-48f2-86e9-7a8fe1e84a23",
   "metadata": {},
   "outputs": [],
   "source": [
    "code_map.iloc[:10]"
   ]
  },
  {
   "cell_type": "code",
   "execution_count": null,
   "id": "8767d5e7-2002-4d0d-9eee-812b45f79c67",
   "metadata": {},
   "outputs": [],
   "source": [
    "encoding.decode_single_token_bytes(63842)"
   ]
  },
  {
   "cell_type": "code",
   "execution_count": null,
   "id": "2e93b41b-91b4-4957-b24c-f32b4a07c174",
   "metadata": {},
   "outputs": [],
   "source": []
  }
 ],
 "metadata": {
  "kernelspec": {
   "display_name": "Python 3 (ipykernel)",
   "language": "python",
   "name": "python3"
  },
  "language_info": {
   "codemirror_mode": {
    "name": "ipython",
    "version": 3
   },
   "file_extension": ".py",
   "mimetype": "text/x-python",
   "name": "python",
   "nbconvert_exporter": "python",
   "pygments_lexer": "ipython3",
   "version": "3.12.3"
  }
 },
 "nbformat": 4,
 "nbformat_minor": 5
}
