{
 "cells": [
  {
   "cell_type": "markdown",
   "id": "ad326395-ceea-493f-9530-aa8e7d3396d4",
   "metadata": {},
   "source": [
    "# 1"
   ]
  },
  {
   "cell_type": "code",
   "execution_count": null,
   "id": "5d59c4dc-c0b1-4beb-bfc2-7d04a9fd63fb",
   "metadata": {},
   "outputs": [],
   "source": [
    "from sentence_transformers import SentenceTransformer"
   ]
  },
  {
   "cell_type": "code",
   "execution_count": null,
   "id": "2417bffa-4f2c-47d6-af03-4bbd92b09fc2",
   "metadata": {},
   "outputs": [],
   "source": [
    "model_name = \"multi-qa-distilbert-cos-v1\""
   ]
  },
  {
   "cell_type": "code",
   "execution_count": null,
   "id": "c1b727cb-61ed-4a51-94fc-eed1a076fb1f",
   "metadata": {},
   "outputs": [],
   "source": [
    "embedding_model = SentenceTransformer(model_name)"
   ]
  },
  {
   "cell_type": "code",
   "execution_count": null,
   "id": "f245cc56-d54c-4514-9f5e-59f3913c1395",
   "metadata": {},
   "outputs": [],
   "source": [
    "user_question = \"I just discovered the course. Can I still join it?\""
   ]
  },
  {
   "cell_type": "code",
   "execution_count": null,
   "id": "d0b700bb-e942-4fe2-adfc-a2e7360ca934",
   "metadata": {},
   "outputs": [],
   "source": [
    "uq_emb = embedding_model.encode(user_question)"
   ]
  },
  {
   "cell_type": "code",
   "execution_count": null,
   "id": "0fcb207d-1574-4416-9420-3e3676ed67d4",
   "metadata": {},
   "outputs": [],
   "source": [
    "uq_emb[0]"
   ]
  },
  {
   "cell_type": "markdown",
   "id": "9ec9ad09-2647-4a32-bb41-44c3c51a6427",
   "metadata": {},
   "source": [
    "# Preparation"
   ]
  },
  {
   "cell_type": "code",
   "execution_count": null,
   "id": "e9f4a5c6-89f0-4126-96b4-09ca1f4dcb89",
   "metadata": {},
   "outputs": [],
   "source": [
    "import requests \n",
    "\n",
    "base_url = 'https://github.com/DataTalksClub/llm-zoomcamp/blob/main'\n",
    "relative_url = '03-vector-search/eval/documents-with-ids.json'\n",
    "docs_url = f'{base_url}/{relative_url}?raw=1'\n",
    "docs_response = requests.get(docs_url)\n",
    "documents = docs_response.json()"
   ]
  },
  {
   "cell_type": "markdown",
   "id": "4e1f07da-cf13-4294-a34e-2dec1def0503",
   "metadata": {},
   "source": [
    "# 2"
   ]
  },
  {
   "cell_type": "code",
   "execution_count": null,
   "id": "2c180ad5-9856-48e4-bd9e-2404e0ef590c",
   "metadata": {},
   "outputs": [],
   "source": [
    "import numpy as np"
   ]
  },
  {
   "cell_type": "code",
   "execution_count": null,
   "id": "9ca2306b-2368-4425-b64a-a3ae02728120",
   "metadata": {},
   "outputs": [],
   "source": [
    "documents[0]"
   ]
  },
  {
   "cell_type": "code",
   "execution_count": null,
   "id": "2ea0d7f1-1c0a-4a1a-bc1d-4f675af52ebb",
   "metadata": {},
   "outputs": [],
   "source": [
    "doc_embs = []\n",
    "for doc in documents:\n",
    "    question = doc['question']\n",
    "    text = doc['text']\n",
    "    qa_text = f'{question} {text}'\n",
    "    emb = embedding_model.encode(qa_text)\n",
    "    doc_embs.append(emb)\n",
    "\n",
    "doc_embs = np.array(embs)"
   ]
  },
  {
   "cell_type": "code",
   "execution_count": null,
   "id": "64346773-5add-453d-9e19-3b28f7eba24e",
   "metadata": {},
   "outputs": [],
   "source": [
    "doc_embs.shape"
   ]
  },
  {
   "cell_type": "markdown",
   "id": "7a9236eb-1173-4014-890a-a92b72f4d837",
   "metadata": {},
   "source": [
    "# 3"
   ]
  },
  {
   "cell_type": "code",
   "execution_count": null,
   "id": "e3824946-61b5-4dcd-afba-94717653b13d",
   "metadata": {},
   "outputs": [],
   "source": [
    "scores = doc_embs.dot(uq_emb)"
   ]
  },
  {
   "cell_type": "code",
   "execution_count": null,
   "id": "eb12c204-8d2e-4a41-a180-28398cbd1ab9",
   "metadata": {},
   "outputs": [],
   "source": [
    "np.max(scores)"
   ]
  },
  {
   "cell_type": "code",
   "execution_count": null,
   "id": "6c2a3997-dbe1-48bb-b818-b1649a82439a",
   "metadata": {},
   "outputs": [],
   "source": []
  },
  {
   "cell_type": "markdown",
   "id": "815b3a94-8b4c-4c01-84d0-4c8e1cad537f",
   "metadata": {},
   "source": [
    "# Vector search"
   ]
  },
  {
   "cell_type": "code",
   "execution_count": null,
   "id": "429e1ac1-13e2-47b4-a4ff-7ff8608d719a",
   "metadata": {},
   "outputs": [],
   "source": [
    "class VectorSearchEngine():\n",
    "    def __init__(self, documents, embeddings):\n",
    "        self.documents = documents\n",
    "        self.embeddings = embeddings\n",
    "\n",
    "    def search(self, v_query, num_results=10):\n",
    "        scores = self.embeddings.dot(v_query)\n",
    "        idx = np.argsort(-scores)[:num_results]\n",
    "        return [self.documents[i] for i in idx]"
   ]
  },
  {
   "cell_type": "code",
   "execution_count": null,
   "id": "e03f8ddb-0060-4e6a-a520-1225be180b53",
   "metadata": {},
   "outputs": [],
   "source": [
    "search_engine = VectorSearchEngine(documents=documents, embeddings=doc_embs)"
   ]
  },
  {
   "cell_type": "code",
   "execution_count": null,
   "id": "51e0b271-7239-4740-a54f-563adf1bb4b7",
   "metadata": {},
   "outputs": [],
   "source": [
    "search_engine.search(uq_emb, num_results=5)"
   ]
  },
  {
   "cell_type": "markdown",
   "id": "099709ad-91e9-4a13-81a1-aaadce918372",
   "metadata": {},
   "source": [
    "# 4"
   ]
  },
  {
   "cell_type": "code",
   "execution_count": null,
   "id": "cb9b2bdd-1da8-4eed-b2d0-1cda102480a4",
   "metadata": {},
   "outputs": [],
   "source": [
    "import pandas as pd\n",
    "\n",
    "base_url = 'https://github.com/DataTalksClub/llm-zoomcamp/blob/main'\n",
    "relative_url = '03-vector-search/eval/ground-truth-data.csv'\n",
    "ground_truth_url = f'{base_url}/{relative_url}?raw=1'\n",
    "\n",
    "df_ground_truth = pd.read_csv(ground_truth_url)\n",
    "df_ground_truth = df_ground_truth[df_ground_truth.course == 'machine-learning-zoomcamp']\n",
    "ground_truth = df_ground_truth.to_dict(orient='records')"
   ]
  },
  {
   "cell_type": "code",
   "execution_count": null,
   "id": "7c260a1f-edd6-4de8-bae9-c35495a04e1b",
   "metadata": {},
   "outputs": [],
   "source": [
    "ground_truth[:3]"
   ]
  },
  {
   "cell_type": "code",
   "execution_count": null,
   "id": "47c26add-de49-48f5-a2a3-775fad8ccc3b",
   "metadata": {},
   "outputs": [],
   "source": [
    "def hit_rate(y_true, y_preds):\n",
    "    return int(y_true in y_preds)"
   ]
  },
  {
   "cell_type": "code",
   "execution_count": null,
   "id": "441c99e4-6756-492e-af53-c495efe2c0b5",
   "metadata": {},
   "outputs": [],
   "source": [
    "hrs = []\n",
    "for doc in ground_truth:\n",
    "    q_emb = embedding_model.encode(doc['question'])\n",
    "    res = search_engine.search(q_emb, num_results=5)\n",
    "    hr = hit_rate(doc['document'], [d['id'] for d in res])\n",
    "    hrs.append(hr)"
   ]
  },
  {
   "cell_type": "code",
   "execution_count": null,
   "id": "38366693-9b6f-4ebd-8303-6f234438cb37",
   "metadata": {},
   "outputs": [],
   "source": [
    "np.mean(hrs)"
   ]
  },
  {
   "cell_type": "code",
   "execution_count": null,
   "id": "ee158c7d-e74e-4242-97bf-c81d6e9640ac",
   "metadata": {},
   "outputs": [],
   "source": []
  },
  {
   "cell_type": "code",
   "execution_count": null,
   "id": "e6269f33-e957-4c29-b8ad-540c99bc9778",
   "metadata": {},
   "outputs": [],
   "source": [
    "hrs = []\n",
    "for doc in ground_truth:\n",
    "    q_emb = embedding_model.encode(doc['question'])\n",
    "    res = search_engine.search(q_emb, num_results=1)\n",
    "    hr = hit_rate(doc['document'], [d['id'] for d in res])\n",
    "    hrs.append(hr)"
   ]
  },
  {
   "cell_type": "code",
   "execution_count": null,
   "id": "c6b01d5c-a9fb-420e-b1b8-73fd309b90d6",
   "metadata": {},
   "outputs": [],
   "source": [
    "np.mean(hrs)"
   ]
  },
  {
   "cell_type": "markdown",
   "id": "9f93db73-5943-4285-a94d-65af3b7fa179",
   "metadata": {},
   "source": [
    "# 5"
   ]
  },
  {
   "cell_type": "code",
   "execution_count": null,
   "id": "5acd8e2a-9fe1-42f5-bbb6-fcc6cf4bb226",
   "metadata": {},
   "outputs": [],
   "source": [
    "from elasticsearch import Elasticsearch\n",
    "es_client = Elasticsearch('http://localhost:9200') "
   ]
  },
  {
   "cell_type": "code",
   "execution_count": null,
   "id": "c929d7a8-3147-43f8-98eb-195bf4adbac2",
   "metadata": {},
   "outputs": [],
   "source": [
    "index_settings = {\n",
    "    \"settings\": {\n",
    "        \"number_of_shards\": 1,\n",
    "        \"number_of_replicas\": 0\n",
    "    },\n",
    "    \"mappings\": {\n",
    "        \"properties\": {\n",
    "            \"text\": {\"type\": \"text\"},\n",
    "            \"text_vector\":{\"type\":\"dense_vector\",\"dims\": 768,\"index\":True,\"similarity\": \"cosine\"},\n",
    "            \"section\": {\"type\": \"keyword\"},\n",
    "            \"question\": {\"type\": \"text\"},\n",
    "            \"course\": {\"type\": \"keyword\"} ,\n",
    "            \"id\": {\"type\": \"text\"},\n",
    "            \"question_vector\":{\"type\":\"dense_vector\",\"dims\": 768,\"index\":True,\"similarity\": \"cosine\"},\n",
    "            \"question_text_vector\":{\"type\":\"dense_vector\",\"dims\": 768,\"index\":True,\"similarity\": \"cosine\"},\n",
    "        }\n",
    "    }\n",
    "}"
   ]
  },
  {
   "cell_type": "code",
   "execution_count": null,
   "id": "4830d917-faaf-4cde-93ce-736064cd603c",
   "metadata": {},
   "outputs": [],
   "source": [
    "index_name = \"course-questions\""
   ]
  },
  {
   "cell_type": "code",
   "execution_count": null,
   "id": "71cbda91-284f-431c-854c-eda0a9bacde5",
   "metadata": {},
   "outputs": [],
   "source": [
    "es_client.indices.delete(index=index_name, ignore_unavailable=True)"
   ]
  },
  {
   "cell_type": "code",
   "execution_count": null,
   "id": "011dc394-1b0d-44d6-806d-9287ffa3aaf1",
   "metadata": {},
   "outputs": [],
   "source": [
    "es_client.indices.create(index=index_name, body=index_settings)"
   ]
  },
  {
   "cell_type": "code",
   "execution_count": null,
   "id": "155adfa0-0e2e-44fc-92c9-a96e487d472d",
   "metadata": {},
   "outputs": [],
   "source": [
    "#created the dense vector using the pre-trained model\n",
    "operations = []\n",
    "for doc in documents:\n",
    "    # Transforming the title into an embedding using the model\n",
    "    doc[\"question_vector\"] = embedding_model.encode(doc[\"question\"]).tolist()\n",
    "    doc[\"text_vector\"] = embedding_model.encode(doc[\"text\"]).tolist()\n",
    "    doc[\"question_text_vector\"] = embedding_model.encode(f\"{doc['question']} {doc['text']}\").tolist()\n",
    "    operations.append(doc)"
   ]
  },
  {
   "cell_type": "code",
   "execution_count": null,
   "id": "e2575f58-0953-4cc1-bf65-529b2a0de1c0",
   "metadata": {},
   "outputs": [],
   "source": [
    "for doc in operations:\n",
    "    try:\n",
    "        es_client.index(index=index_name, document=doc)\n",
    "    except Exception as e:\n",
    "        print(e)"
   ]
  },
  {
   "cell_type": "code",
   "execution_count": null,
   "id": "dd00a484-6a33-47cc-91ac-eafb7cd78fc7",
   "metadata": {},
   "outputs": [],
   "source": []
  },
  {
   "cell_type": "code",
   "execution_count": null,
   "id": "7281c41f-6573-4dff-b138-1b16bab8c3f9",
   "metadata": {},
   "outputs": [],
   "source": [
    "query = {\n",
    "    \"field\" : \"question_text_vector\",\n",
    "    \"query_vector\" :  uq_emb,\n",
    "    \"k\" : 5,\n",
    "    \"num_candidates\" : 5, \n",
    "}"
   ]
  },
  {
   "cell_type": "code",
   "execution_count": null,
   "id": "67eb51fe-01cc-4b43-8204-6b24c145aa8f",
   "metadata": {},
   "outputs": [],
   "source": [
    "res = es_client.search(\n",
    "    index=index_name, \n",
    "    knn=query, \n",
    "    source=[\"text\", \"section\", \"question\", \"course\", \"id\"]\n",
    ")"
   ]
  },
  {
   "cell_type": "code",
   "execution_count": null,
   "id": "4e977982-10aa-402f-89a9-11fe1dfa9953",
   "metadata": {},
   "outputs": [],
   "source": [
    "res['hits']['hits'][0]['_source'][\"id\"]"
   ]
  },
  {
   "cell_type": "code",
   "execution_count": null,
   "id": "0f3a25da-f261-4b19-a96c-d5df88df9b2b",
   "metadata": {},
   "outputs": [],
   "source": []
  },
  {
   "cell_type": "code",
   "execution_count": null,
   "id": "2eb19531-853b-4546-839b-36e973f78a15",
   "metadata": {},
   "outputs": [],
   "source": [
    "hrs = []\n",
    "for doc in ground_truth:\n",
    "    q_emb = embedding_model.encode(doc['question'])\n",
    "\n",
    "    query = {\n",
    "        # \"field\" : \"question_text_vector\",\n",
    "        \"field\": \"question_vector\",\n",
    "        \"query_vector\" :  q_emb,\n",
    "        \"k\" : 5,\n",
    "        \"num_candidates\" : 5, \n",
    "    }\n",
    "    \n",
    "    res = es_client.search(\n",
    "        index=index_name, \n",
    "        knn=query, \n",
    "        source=[\"id\"]\n",
    "    )\n",
    "    hr = hit_rate(doc['document'], [d['_source']['id'] for d in res['hits']['hits']])\n",
    "    hrs.append(hr)\n",
    "\n",
    "np.mean(hrs)"
   ]
  },
  {
   "cell_type": "code",
   "execution_count": null,
   "id": "cd7fcd4d-791e-4fae-bd47-78b3e557f5c2",
   "metadata": {},
   "outputs": [],
   "source": [
    "hrs = []\n",
    "for doc in ground_truth:\n",
    "    q_emb = embedding_model.encode(doc['question'])\n",
    "\n",
    "    query = {\n",
    "        \"field\": \"text_vector\",\n",
    "        \"query_vector\" :  q_emb,\n",
    "        \"k\" : 5,\n",
    "        \"num_candidates\" : 5, \n",
    "    }\n",
    "    \n",
    "    res = es_client.search(\n",
    "        index=index_name, \n",
    "        knn=query, \n",
    "        source=[\"id\"]\n",
    "    )\n",
    "    hr = hit_rate(doc['document'], [d['_source']['id'] for d in res['hits']['hits']])\n",
    "    hrs.append(hr)\n",
    "\n",
    "np.mean(hrs)"
   ]
  },
  {
   "cell_type": "code",
   "execution_count": null,
   "id": "9e4f2168-d14d-4f4e-ada5-5a6990f9dc07",
   "metadata": {},
   "outputs": [],
   "source": [
    "hrs = []\n",
    "for doc in ground_truth:\n",
    "    q_emb = embedding_model.encode(doc['question'])\n",
    "\n",
    "    query = {\n",
    "        \"field\" : \"question_text_vector\",\n",
    "        \"query_vector\" :  q_emb,\n",
    "        \"k\" : 5,\n",
    "        \"num_candidates\" : 5, \n",
    "    }\n",
    "    \n",
    "    res = es_client.search(\n",
    "        index=index_name, \n",
    "        knn=query, \n",
    "        source=[\"id\"]\n",
    "    )\n",
    "    hr = hit_rate(doc['document'], [d['_source']['id'] for d in res['hits']['hits']])\n",
    "    hrs.append(hr)\n",
    "\n",
    "np.mean(hrs)"
   ]
  },
  {
   "cell_type": "code",
   "execution_count": null,
   "id": "dfac2f3d-ccff-42ec-8aa3-90eee4e13b79",
   "metadata": {},
   "outputs": [],
   "source": []
  },
  {
   "cell_type": "code",
   "execution_count": null,
   "id": "2179baa6-c43a-4ca8-8e28-b52d6d24ee57",
   "metadata": {},
   "outputs": [],
   "source": [
    "hrs = []\n",
    "for doc in ground_truth:\n",
    "    q_emb = embedding_model.encode(doc['question'])\n",
    "\n",
    "    query = {\n",
    "        \"field\" : \"question_text_vector\",\n",
    "        \"query_vector\" :  q_emb,\n",
    "        \"k\" : 5,\n",
    "        \"num_candidates\" : 1000, \n",
    "    }\n",
    "    \n",
    "    res = es_client.search(\n",
    "        index=index_name, \n",
    "        knn=query, \n",
    "        source=[\"id\"]\n",
    "    )\n",
    "    hr = hit_rate(doc['document'], [d['_source']['id'] for d in res['hits']['hits']])\n",
    "    hrs.append(hr)"
   ]
  },
  {
   "cell_type": "code",
   "execution_count": null,
   "id": "824adb92-8122-4963-b3e2-d48c2ae806c0",
   "metadata": {},
   "outputs": [],
   "source": [
    "np.mean(hrs)"
   ]
  }
 ],
 "metadata": {
  "kernelspec": {
   "display_name": "Python 3 (ipykernel)",
   "language": "python",
   "name": "python3"
  },
  "language_info": {
   "codemirror_mode": {
    "name": "ipython",
    "version": 3
   },
   "file_extension": ".py",
   "mimetype": "text/x-python",
   "name": "python",
   "nbconvert_exporter": "python",
   "pygments_lexer": "ipython3",
   "version": "3.12.4"
  }
 },
 "nbformat": 4,
 "nbformat_minor": 5
}
